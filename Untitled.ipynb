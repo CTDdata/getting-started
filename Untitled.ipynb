{
 "cells": [
  {
   "cell_type": "code",
   "execution_count": 1,
   "id": "e6897b5c",
   "metadata": {},
   "outputs": [
    {
     "name": "stdout",
     "output_type": "stream",
     "text": [
      "hello world!\n"
     ]
    }
   ],
   "source": [
    "print('hello world!')"
   ]
  },
  {
   "cell_type": "code",
   "execution_count": 2,
   "id": "93076820",
   "metadata": {},
   "outputs": [
    {
     "name": "stdout",
     "output_type": "stream",
     "text": [
      "hello Queen Elizabeth\n"
     ]
    }
   ],
   "source": [
    "def greet(name):\n",
    "    print('hello ' + name)\n",
    "\n",
    "greet('Queen Elizabeth')"
   ]
  },
  {
   "cell_type": "code",
   "execution_count": null,
   "id": "51836f8a",
   "metadata": {},
   "outputs": [],
   "source": [
    "#IF YOU HAVE JUPYTER NOTEBOOKS WORKING\n",
    "#WRITE TWO FUCNTIONS\n",
    "#ONE THAT TAKES A NUMBER VALUE\n",
    "#ONE THAT TAKES A STRING VALUE\n",
    "\n",
    "#deploy each function with three values"
   ]
  }
 ],
 "metadata": {
  "kernelspec": {
   "display_name": "Python 3 (ipykernel)",
   "language": "python",
   "name": "python3"
  },
  "language_info": {
   "codemirror_mode": {
    "name": "ipython",
    "version": 3
   },
   "file_extension": ".py",
   "mimetype": "text/x-python",
   "name": "python",
   "nbconvert_exporter": "python",
   "pygments_lexer": "ipython3",
   "version": "3.10.1"
  }
 },
 "nbformat": 4,
 "nbformat_minor": 5
}
